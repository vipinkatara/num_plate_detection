{
 "cells": [
  {
   "cell_type": "markdown",
   "metadata": {},
   "source": [
    "# Importing necessary Libraries for loading the data from json file"
   ]
  },
  {
   "cell_type": "code",
   "execution_count": 1,
   "metadata": {},
   "outputs": [],
   "source": [
    "import pandas as pd\n",
    "import numpy as np\n",
    "import os\n",
    "from PIL import Image\n",
    "import urllib"
   ]
  },
  {
   "cell_type": "markdown",
   "metadata": {},
   "source": [
    "# Reading JSON"
   ]
  },
  {
   "cell_type": "code",
   "execution_count": 2,
   "metadata": {},
   "outputs": [
    {
     "data": {
      "text/html": [
       "<div>\n",
       "<style scoped>\n",
       "    .dataframe tbody tr th:only-of-type {\n",
       "        vertical-align: middle;\n",
       "    }\n",
       "\n",
       "    .dataframe tbody tr th {\n",
       "        vertical-align: top;\n",
       "    }\n",
       "\n",
       "    .dataframe thead th {\n",
       "        text-align: right;\n",
       "    }\n",
       "</style>\n",
       "<table border=\"1\" class=\"dataframe\">\n",
       "  <thead>\n",
       "    <tr style=\"text-align: right;\">\n",
       "      <th></th>\n",
       "      <th>content</th>\n",
       "      <th>annotation</th>\n",
       "      <th>extras</th>\n",
       "    </tr>\n",
       "  </thead>\n",
       "  <tbody>\n",
       "    <tr>\n",
       "      <th>0</th>\n",
       "      <td>http://com.dataturks.a96-i23.open.s3.amazonaws...</td>\n",
       "      <td>[{'label': ['number_plate'], 'notes': '', 'poi...</td>\n",
       "      <td>NaN</td>\n",
       "    </tr>\n",
       "    <tr>\n",
       "      <th>1</th>\n",
       "      <td>http://com.dataturks.a96-i23.open.s3.amazonaws...</td>\n",
       "      <td>[{'label': ['number_plate'], 'notes': '', 'poi...</td>\n",
       "      <td>NaN</td>\n",
       "    </tr>\n",
       "    <tr>\n",
       "      <th>2</th>\n",
       "      <td>http://com.dataturks.a96-i23.open.s3.amazonaws...</td>\n",
       "      <td>[{'label': ['number_plate'], 'notes': '', 'poi...</td>\n",
       "      <td>NaN</td>\n",
       "    </tr>\n",
       "    <tr>\n",
       "      <th>3</th>\n",
       "      <td>http://com.dataturks.a96-i23.open.s3.amazonaws...</td>\n",
       "      <td>[{'label': ['number_plate'], 'notes': '', 'poi...</td>\n",
       "      <td>NaN</td>\n",
       "    </tr>\n",
       "    <tr>\n",
       "      <th>4</th>\n",
       "      <td>http://com.dataturks.a96-i23.open.s3.amazonaws...</td>\n",
       "      <td>[{'label': ['number_plate'], 'notes': '', 'poi...</td>\n",
       "      <td>NaN</td>\n",
       "    </tr>\n",
       "  </tbody>\n",
       "</table>\n",
       "</div>"
      ],
      "text/plain": [
       "                                             content  \\\n",
       "0  http://com.dataturks.a96-i23.open.s3.amazonaws...   \n",
       "1  http://com.dataturks.a96-i23.open.s3.amazonaws...   \n",
       "2  http://com.dataturks.a96-i23.open.s3.amazonaws...   \n",
       "3  http://com.dataturks.a96-i23.open.s3.amazonaws...   \n",
       "4  http://com.dataturks.a96-i23.open.s3.amazonaws...   \n",
       "\n",
       "                                          annotation  extras  \n",
       "0  [{'label': ['number_plate'], 'notes': '', 'poi...     NaN  \n",
       "1  [{'label': ['number_plate'], 'notes': '', 'poi...     NaN  \n",
       "2  [{'label': ['number_plate'], 'notes': '', 'poi...     NaN  \n",
       "3  [{'label': ['number_plate'], 'notes': '', 'poi...     NaN  \n",
       "4  [{'label': ['number_plate'], 'notes': '', 'poi...     NaN  "
      ]
     },
     "execution_count": 2,
     "metadata": {},
     "output_type": "execute_result"
    }
   ],
   "source": [
    "df = pd.read_json(\"vehicle-number-plate-detection/Indian_Number_plates.json\", lines=True)\n",
    "df.head()"
   ]
  },
  {
   "cell_type": "code",
   "execution_count": 3,
   "metadata": {},
   "outputs": [],
   "source": [
    "#creating a directory to store the images\n",
    "os.mkdir(\"Number Plates\")"
   ]
  },
  {
   "cell_type": "markdown",
   "metadata": {},
   "source": [
    "# downloading images"
   ]
  },
  {
   "cell_type": "code",
   "execution_count": 4,
   "metadata": {},
   "outputs": [
    {
     "name": "stdout",
     "output_type": "stream",
     "text": [
      "Downloaded 192 car images.\n"
     ]
    }
   ],
   "source": [
    "dataset = dict()\n",
    "dataset[\"image_name\"] = list()\n",
    "dataset[\"image_width\"] = list()\n",
    "dataset[\"image_height\"] = list()\n",
    "dataset[\"top_x\"] = list()\n",
    "dataset[\"top_y\"] = list()\n",
    "dataset[\"bottom_x\"] = list()\n",
    "dataset[\"bottom_y\"] = list()\n",
    "\n",
    "counter = 0\n",
    "for index, row in df.iterrows():\n",
    "    try:\n",
    "        img = urllib.request.urlopen(row[\"content\"])\n",
    "        img = Image.open(img)\n",
    "        img = img.convert('RGB')\n",
    "        img.save(\"Number Plates/licensed_car{}.jpeg\".format(counter), \"JPEG\")\n",
    "    \n",
    "        dataset[\"image_name\"].append(\"licensed_car{}\".format(counter))\n",
    "    \n",
    "        data = row[\"annotation\"]\n",
    "    \n",
    "        dataset[\"image_width\"].append(data[0][\"imageWidth\"])\n",
    "        dataset[\"image_height\"].append(data[0][\"imageHeight\"])\n",
    "        dataset[\"top_x\"].append(data[0][\"points\"][0][\"x\"])\n",
    "        dataset[\"top_y\"].append(data[0][\"points\"][0][\"y\"])\n",
    "        dataset[\"bottom_x\"].append(data[0][\"points\"][1][\"x\"])\n",
    "        dataset[\"bottom_y\"].append(data[0][\"points\"][1][\"y\"])\n",
    "        \n",
    "        counter += 1\n",
    "    except Exception as E:\n",
    "        pass\n",
    "print(\"Downloaded {} car images.\".format(counter))"
   ]
  },
  {
   "cell_type": "markdown",
   "metadata": {},
   "source": [
    "# creating dataframe of images"
   ]
  },
  {
   "cell_type": "code",
   "execution_count": 5,
   "metadata": {},
   "outputs": [
    {
     "data": {
      "text/html": [
       "<div>\n",
       "<style scoped>\n",
       "    .dataframe tbody tr th:only-of-type {\n",
       "        vertical-align: middle;\n",
       "    }\n",
       "\n",
       "    .dataframe tbody tr th {\n",
       "        vertical-align: top;\n",
       "    }\n",
       "\n",
       "    .dataframe thead th {\n",
       "        text-align: right;\n",
       "    }\n",
       "</style>\n",
       "<table border=\"1\" class=\"dataframe\">\n",
       "  <thead>\n",
       "    <tr style=\"text-align: right;\">\n",
       "      <th></th>\n",
       "      <th>image_name</th>\n",
       "      <th>image_width</th>\n",
       "      <th>image_height</th>\n",
       "      <th>top_x</th>\n",
       "      <th>top_y</th>\n",
       "      <th>bottom_x</th>\n",
       "      <th>bottom_y</th>\n",
       "    </tr>\n",
       "  </thead>\n",
       "  <tbody>\n",
       "    <tr>\n",
       "      <th>0</th>\n",
       "      <td>licensed_car0</td>\n",
       "      <td>494</td>\n",
       "      <td>449</td>\n",
       "      <td>0.161943</td>\n",
       "      <td>0.850780</td>\n",
       "      <td>0.582996</td>\n",
       "      <td>1.000000</td>\n",
       "    </tr>\n",
       "    <tr>\n",
       "      <th>1</th>\n",
       "      <td>licensed_car1</td>\n",
       "      <td>500</td>\n",
       "      <td>314</td>\n",
       "      <td>0.082000</td>\n",
       "      <td>0.697452</td>\n",
       "      <td>0.230000</td>\n",
       "      <td>0.828025</td>\n",
       "    </tr>\n",
       "    <tr>\n",
       "      <th>2</th>\n",
       "      <td>licensed_car2</td>\n",
       "      <td>551</td>\n",
       "      <td>455</td>\n",
       "      <td>0.411978</td>\n",
       "      <td>0.529670</td>\n",
       "      <td>0.805808</td>\n",
       "      <td>0.692308</td>\n",
       "    </tr>\n",
       "    <tr>\n",
       "      <th>3</th>\n",
       "      <td>licensed_car3</td>\n",
       "      <td>1569</td>\n",
       "      <td>1119</td>\n",
       "      <td>0.410758</td>\n",
       "      <td>0.453714</td>\n",
       "      <td>0.568867</td>\n",
       "      <td>0.516571</td>\n",
       "    </tr>\n",
       "    <tr>\n",
       "      <th>4</th>\n",
       "      <td>licensed_car4</td>\n",
       "      <td>1632</td>\n",
       "      <td>918</td>\n",
       "      <td>0.413203</td>\n",
       "      <td>0.397101</td>\n",
       "      <td>0.586797</td>\n",
       "      <td>0.623188</td>\n",
       "    </tr>\n",
       "  </tbody>\n",
       "</table>\n",
       "</div>"
      ],
      "text/plain": [
       "      image_name  image_width  image_height     top_x     top_y  bottom_x  \\\n",
       "0  licensed_car0          494           449  0.161943  0.850780  0.582996   \n",
       "1  licensed_car1          500           314  0.082000  0.697452  0.230000   \n",
       "2  licensed_car2          551           455  0.411978  0.529670  0.805808   \n",
       "3  licensed_car3         1569          1119  0.410758  0.453714  0.568867   \n",
       "4  licensed_car4         1632           918  0.413203  0.397101  0.586797   \n",
       "\n",
       "   bottom_y  \n",
       "0  1.000000  \n",
       "1  0.828025  \n",
       "2  0.692308  \n",
       "3  0.516571  \n",
       "4  0.623188  "
      ]
     },
     "execution_count": 5,
     "metadata": {},
     "output_type": "execute_result"
    }
   ],
   "source": [
    "df = pd.DataFrame(dataset)\n",
    "df.head()"
   ]
  },
  {
   "cell_type": "markdown",
   "metadata": {},
   "source": [
    "# storing the dataset to csv file"
   ]
  },
  {
   "cell_type": "code",
   "execution_count": 6,
   "metadata": {},
   "outputs": [],
   "source": [
    "df.to_csv(\"indian_license_plates.csv\", index=False)"
   ]
  },
  {
   "cell_type": "code",
   "execution_count": null,
   "metadata": {},
   "outputs": [],
   "source": []
  }
 ],
 "metadata": {
  "kernelspec": {
   "display_name": "Python 3",
   "language": "python",
   "name": "python3"
  },
  "language_info": {
   "codemirror_mode": {
    "name": "ipython",
    "version": 3
   },
   "file_extension": ".py",
   "mimetype": "text/x-python",
   "name": "python",
   "nbconvert_exporter": "python",
   "pygments_lexer": "ipython3",
   "version": "3.6.9"
  }
 },
 "nbformat": 4,
 "nbformat_minor": 4
}
